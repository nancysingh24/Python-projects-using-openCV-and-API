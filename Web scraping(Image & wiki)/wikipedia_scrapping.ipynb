{
 "cells": [
  {
   "cell_type": "code",
   "execution_count": 3,
   "metadata": {},
   "outputs": [],
   "source": [
    "from bs4 import BeautifulSoup\n",
    "import requests\n"
   ]
  },
  {
   "cell_type": "code",
   "execution_count": 4,
   "metadata": {},
   "outputs": [],
   "source": [
    "url=\"https://en.wikipedia.org/wiki/Python_(programming_language)\"\n",
    "raw_data=requests.get(url)\n"
   ]
  },
  {
   "cell_type": "code",
   "execution_count": 6,
   "metadata": {},
   "outputs": [],
   "source": [
    "data=raw_data.content"
   ]
  },
  {
   "cell_type": "code",
   "execution_count": 8,
   "metadata": {},
   "outputs": [],
   "source": [
    "bs=BeautifulSoup(data,\"lxml\")"
   ]
  },
  {
   "cell_type": "code",
   "execution_count": 1,
   "metadata": {},
   "outputs": [],
   "source": [
    "#bs.find_all(\"p\")"
   ]
  },
  {
   "cell_type": "code",
   "execution_count": 15,
   "metadata": {},
   "outputs": [],
   "source": [
    "g=bs.find_all(\"table\",{\"class\":\"infobox vevent\"})"
   ]
  },
  {
   "cell_type": "code",
   "execution_count": 16,
   "metadata": {},
   "outputs": [
    {
     "data": {
      "text/plain": [
       "'Designed\\xa0by'"
      ]
     },
     "execution_count": 16,
     "metadata": {},
     "output_type": "execute_result"
    }
   ],
   "source": [
    "g[0].find_all(\"th\")[1].text"
   ]
  },
  {
   "cell_type": "code",
   "execution_count": 17,
   "metadata": {},
   "outputs": [],
   "source": [
    "th=g[0].find_all(\"th\")"
   ]
  },
  {
   "cell_type": "code",
   "execution_count": 23,
   "metadata": {},
   "outputs": [
    {
     "name": "stdout",
     "output_type": "stream",
     "text": [
      "Paradigm\n",
      "Designed by\n",
      "Developer\n",
      "First appeared\n",
      "Stable release\n",
      "Typing discipline\n",
      "License\n",
      "Filename extensions\n",
      "Website\n",
      "Major implementations\n",
      "Dialects\n",
      "Influenced by\n",
      "Influenced\n"
     ]
    }
   ],
   "source": [
    "title=[]\n",
    "for i in th:\n",
    "    print(i.text)\n",
    "    title.append(i.text)"
   ]
  },
  {
   "cell_type": "code",
   "execution_count": 20,
   "metadata": {},
   "outputs": [],
   "source": [
    "td=g[0].find_all(\"td\")"
   ]
  },
  {
   "cell_type": "code",
   "execution_count": 24,
   "metadata": {},
   "outputs": [],
   "source": [
    "dec=[]\n",
    "for j in td:\n",
    "    dec.append(j.text)"
   ]
  },
  {
   "cell_type": "code",
   "execution_count": 25,
   "metadata": {},
   "outputs": [
    {
     "name": "stdout",
     "output_type": "stream",
     "text": [
      "Paradigm\tMulti-paradigm: functional, imperative, object-oriented, reflective\n",
      "Designed by\tGuido van Rossum\n",
      "Developer\tPython Software Foundation\n",
      "First appeared\t1990; 29 years ago (1990)[1]\n",
      "Stable release\t\n",
      "Typing discipline\t3.7.3 / 25 March 2019; 49 days ago (2019-03-25)[2]2.7.16 / 4 March 2019; 2 months ago (2019-03-04)[3]\n",
      "\n",
      "License\t\n",
      "\n",
      "Filename extensions\tDuck, dynamic, gradual (since 3.5)[4]\n",
      "Website\tPython Software Foundation License\n",
      "Major implementations\t.py, .pyc, .pyd, .pyo (prior to 3.5),[5] .pyw, .pyz (since 3.5)[6]\n",
      "Dialects\twww.python.org\n",
      "Influenced by\tCPython, PyPy, Stackless Python, MicroPython. CircuitPython, IronPython, Jython\n",
      "Influenced\tCython, RPython\n"
     ]
    }
   ],
   "source": [
    "k=min([len(dec),len(title)])\n",
    "for jk in range(k):\n",
    "    print(\"\"+title[jk]+\"\\t\"+dec[jk+1])"
   ]
  },
  {
   "cell_type": "code",
   "execution_count": null,
   "metadata": {},
   "outputs": [],
   "source": []
  }
 ],
 "metadata": {
  "kernelspec": {
   "display_name": "Python 3",
   "language": "python",
   "name": "python3"
  },
  "language_info": {
   "codemirror_mode": {
    "name": "ipython",
    "version": 3
   },
   "file_extension": ".py",
   "mimetype": "text/x-python",
   "name": "python",
   "nbconvert_exporter": "python",
   "pygments_lexer": "ipython3",
   "version": "3.7.3"
  }
 },
 "nbformat": 4,
 "nbformat_minor": 2
}
