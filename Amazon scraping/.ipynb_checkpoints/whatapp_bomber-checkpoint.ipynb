{
 "cells": [
  {
   "cell_type": "markdown",
   "metadata": {},
   "source": [
    "from selenium import webdriver\n",
    "\n",
    "browse = webdriver.Chrome(executable_path='/home/njnitesh/Desktop/lco/day8/chromedriver')\n",
    "\n",
    "browse.get('https://learncodeonline.in/winter-bootcamp/')\n",
    "\n",
    "html = browse.page_source"
   ]
  },
  {
   "cell_type": "code",
   "execution_count": 5,
   "metadata": {},
   "outputs": [
    {
     "name": "stdout",
     "output_type": "stream",
     "text": [
      "/home/njnitesh/Desktop/lco/day8\n"
     ]
    }
   ],
   "source": [
    "!pwd"
   ]
  },
  {
   "cell_type": "code",
   "execution_count": 26,
   "metadata": {},
   "outputs": [],
   "source": [
    "\n",
    "from selenium import webdriver\n",
    "import os\n",
    "\n",
    "\n",
    "def main():\n",
    "    driver = webdriver.Chrome(executable_path='/home/njnitesh/Desktop/lco/day8/chromedriver')\n",
    "    driver.get('https://web.whatsapp.com/')\n",
    "\n",
    "    name = input('Enter the name of user or group: ')\n",
    "    msg = input('Enter your message: ')\n",
    "    count = int(input('Enter the count: '))\n",
    "    input('Enter any key after scanning QR code')\n",
    "\n",
    "    user = driver.find_element_by_xpath('//span[@title = \"{}\"]'.format(name))\n",
    "    user.click()\n",
    "\n",
    "    msg_box = driver.find_element_by_class_name('_2S1VP')\n",
    "    msg_box.click()\n",
    "\n",
    "    for i in range(count):\n",
    "        msg_box.send_keys(msg)\n",
    "        button = driver.find_element_by_class_name('_35EW6')\n",
    "        button.click() \n",
    "    print('Bombing Complete!!')\n"
   ]
  },
  {
   "cell_type": "code",
   "execution_count": null,
   "metadata": {},
   "outputs": [
    {
     "name": "stdin",
     "output_type": "stream",
     "text": [
      "Enter the name of user or group:  subo\n",
      "Enter your message:  hi, you have been hacked\n",
      "Enter the count:  1000\n",
      "Enter any key after scanning QR code \n"
     ]
    }
   ],
   "source": [
    "main()"
   ]
  },
  {
   "cell_type": "code",
   "execution_count": null,
   "metadata": {},
   "outputs": [],
   "source": []
  }
 ],
 "metadata": {
  "kernelspec": {
   "display_name": "Python 3",
   "language": "python",
   "name": "python3"
  },
  "language_info": {
   "codemirror_mode": {
    "name": "ipython",
    "version": 3
   },
   "file_extension": ".py",
   "mimetype": "text/x-python",
   "name": "python",
   "nbconvert_exporter": "python",
   "pygments_lexer": "ipython3",
   "version": "3.7.3"
  }
 },
 "nbformat": 4,
 "nbformat_minor": 2
}
