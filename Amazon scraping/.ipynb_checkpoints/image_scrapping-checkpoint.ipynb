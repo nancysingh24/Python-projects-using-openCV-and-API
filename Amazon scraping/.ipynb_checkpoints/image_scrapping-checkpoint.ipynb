{
 "cells": [
  {
   "cell_type": "code",
   "execution_count": 1,
   "metadata": {},
   "outputs": [
    {
     "name": "stdout",
     "output_type": "stream",
     "text": [
      "https://cdn.pixabay.com/photo/2019/02/28/08/45/french-bulldog-4025552__480.jpg\n"
     ]
    }
   ],
   "source": [
    "import requests\n",
    "import io\n",
    "from bs4 import BeautifulSoup\n",
    "import selenium\n",
    "from selenium import webdriver\n",
    "browse=webdriver.Chrome()\n",
    "browse.get(\"https://pixabay.com/images/search/spiderman/\")\n",
    "html=browse.page_source\n",
    "df=BeautifulSoup(html,\"lxml\")\n",
    "images=df.findAll(\"img\")\n",
    "len(images)\n",
    "print(images[2][\"srcset\"].split(\"1x,\")[-1].split(\" \")[1])\n"
   ]
  },
  {
   "cell_type": "code",
   "execution_count": null,
   "metadata": {},
   "outputs": [],
   "source": []
  }
 ],
 "metadata": {
  "kernelspec": {
   "display_name": "Python 3",
   "language": "python",
   "name": "python3"
  },
  "language_info": {
   "codemirror_mode": {
    "name": "ipython",
    "version": 3
   },
   "file_extension": ".py",
   "mimetype": "text/x-python",
   "name": "python",
   "nbconvert_exporter": "python",
   "pygments_lexer": "ipython3",
   "version": "3.7.3"
  }
 },
 "nbformat": 4,
 "nbformat_minor": 2
}
