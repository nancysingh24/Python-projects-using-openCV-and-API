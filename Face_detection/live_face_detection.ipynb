{
 "cells": [
  {
   "cell_type": "code",
   "execution_count": 1,
   "metadata": {},
   "outputs": [],
   "source": [
    "import cv2 as cv\n",
    "import numpy as np\n",
    "#for opening the internal camera 0 is used otherwise 1 for external camera\n",
    "cam = cv.VideoCapture(0)\n",
    "#for detecting live faces\n",
    "detector=cv.CascadeClassifier(\"haar_frontal.xml\")\n",
    "while True:  \n",
    "    #reading the images from camera\n",
    "    _,frame=cam.read()   \n",
    "\n",
    "    #converting BGR to GRAY\n",
    "    gray=cv.cvtColor(frame,cv.COLOR_BGR2GRAY)  \n",
    "    \n",
    "    # detecting the live faces\n",
    "    faces = detector.detectMultiScale(gray,1.3,5)\n",
    "\n",
    "    # drawing the rectangle on the detected faces\n",
    "    for face in faces:\n",
    "        x,y,w,h=face\n",
    "        cv.rectangle(frame,(x,y),(x+w,y+h),[255,255,255],2)\n",
    "\n",
    "    # displaying the detected faces\n",
    "    cv.imshow(\"Live_Face_Dection\",frame)\n",
    "\n",
    "    #q used for closing the camera\n",
    "    key=cv.waitKey(5)\n",
    "    if key & 0xff == ord('q'):\n",
    "        cv.destroyAllWindows()  # It will destroy the window which is opened \n",
    "        break   #Terminate the loop\n",
    "\n",
    "#releasing the camera \n",
    "cam.release()"
   ]
  },
  {
   "cell_type": "code",
   "execution_count": null,
   "metadata": {},
   "outputs": [],
   "source": []
  }
 ],
 "metadata": {
  "kernelspec": {
   "display_name": "Python 3",
   "language": "python",
   "name": "python3"
  },
  "language_info": {
   "codemirror_mode": {
    "name": "ipython",
    "version": 3
   },
   "file_extension": ".py",
   "mimetype": "text/x-python",
   "name": "python",
   "nbconvert_exporter": "python",
   "pygments_lexer": "ipython3",
   "version": "3.7.3"
  }
 },
 "nbformat": 4,
 "nbformat_minor": 2
}
