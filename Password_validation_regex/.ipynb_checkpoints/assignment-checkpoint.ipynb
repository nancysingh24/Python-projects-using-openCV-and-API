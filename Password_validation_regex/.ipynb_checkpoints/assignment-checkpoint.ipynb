{
 "cells": [
  {
   "cell_type": "code",
   "execution_count": 127,
   "metadata": {},
   "outputs": [],
   "source": [
    "import csv\n",
    "import re\n",
    "import requests\n",
    "from bs4 import BeautifulSoup\n",
    "raw=requests.get(\"https://www.moneycontrol.com/news/india/lok-sabha-election-results-2019-state-wise-tally-4008651.html\").content"
   ]
  },
  {
   "cell_type": "code",
   "execution_count": 128,
   "metadata": {},
   "outputs": [],
   "source": [
    "sp=BeautifulSoup(raw)"
   ]
  },
  {
   "cell_type": "code",
   "execution_count": 129,
   "metadata": {},
   "outputs": [],
   "source": [
    "tbody=sp.find_all(\"tbody\")"
   ]
  },
  {
   "cell_type": "code",
   "execution_count": 130,
   "metadata": {},
   "outputs": [],
   "source": [
    "trs=tbody[0].find_all(\"tr\")\n"
   ]
  },
  {
   "cell_type": "code",
   "execution_count": 131,
   "metadata": {},
   "outputs": [
    {
     "name": "stdout",
     "output_type": "stream",
     "text": [
      "Andaman & Nicobar  0\n"
     ]
    }
   ],
   "source": [
    "x=trs[1].find_all(\"td\")[0].text\n",
    "y=trs[1].find_all(\"td\")[1].text\n",
    "print(x,y)"
   ]
  },
  {
   "cell_type": "code",
   "execution_count": 132,
   "metadata": {},
   "outputs": [
    {
     "name": "stdout",
     "output_type": "stream",
     "text": [
      "Andaman & Nicobar, 0\n",
      "\n",
      "Andhra Pradesh, 0\n",
      "\n",
      "Arunachal Pradesh,2\n",
      "\n",
      "Assam, 9\n",
      "\n",
      "Bihar, 39\n",
      "\n",
      "Chandigarh, 1\n",
      "\n",
      "Chhattisgarh, 9\n",
      "\n",
      "Dadra & Nagar Haveli, 0\n",
      "\n",
      "Daman & Diu, 1\n",
      "\n",
      "Goa, 1\n",
      "\n",
      "Gujarat, 26\n",
      "\n",
      "Haryana, 10\n",
      "\n",
      "Himachal Pradesh, 4\n",
      "\n",
      "Jammu & Kashmir, 3\n",
      "\n",
      "Jharkhand, 12\n",
      "\n",
      " Karnataka, 25\n",
      "\n",
      "Kerala,0\n",
      "\n",
      "Lakshwadeep, 0\n",
      "\n",
      "Madhya Pradesh, 28\n",
      "\n",
      "Maharashtra, 41\n",
      "\n",
      "Manipur, 2\n",
      "\n",
      "Meghalaya, 0\n",
      "\n",
      "Mizoram, 0\n",
      "\n",
      "Nagaland, 0\n",
      "\n",
      "NCT of Delhi, 7\n",
      "\n",
      "Odisha, 8\n",
      "\n",
      "Puducherry, 0\n",
      "\n",
      "Punjab, 4\n",
      "\n",
      "Rajasthan, 25\n",
      "\n",
      "Sikkim, 0\n",
      "\n",
      "Tamil Nadu, 2\n",
      "\n",
      "Telangana, 4\n",
      "\n",
      "Tripura, 2\n",
      "\n",
      "Uttar Pradesh, 62\n",
      "\n",
      "Uttarakhand, 5\n",
      "\n",
      "West Bengal, 18\n",
      "\n"
     ]
    }
   ],
   "source": [
    "gh=\"states,BJP_seats\\n\"\n",
    "with open(\"nancy1.csv\",\"a\",encoding=\"utf-8\") as nancy:\n",
    "            nancy.write(gh)\n",
    "for tr in trs[1:]:\n",
    "    try:\n",
    "        state=tr.find_all(\"td\")[0].text\n",
    "        seats=tr.find_all(\"td\")[1].text\n",
    "        d=re.sub(\"[,]\",\" \",seats)\n",
    "        final_str=state+\",\"+d+\"\\n\"\n",
    "        print(final_str)\n",
    "        with open(\"nancy1.csv\",\"a\",encoding=\"utf-8\") as nancy:\n",
    "            nancy.write(final_str)\n",
    "    except:\n",
    "        pass\n",
    "    "
   ]
  }
 ],
 "metadata": {
  "kernelspec": {
   "display_name": "Python 3",
   "language": "python",
   "name": "python3"
  },
  "language_info": {
   "codemirror_mode": {
    "name": "ipython",
    "version": 3
   },
   "file_extension": ".py",
   "mimetype": "text/x-python",
   "name": "python",
   "nbconvert_exporter": "python",
   "pygments_lexer": "ipython3",
   "version": "3.7.3"
  }
 },
 "nbformat": 4,
 "nbformat_minor": 2
}
