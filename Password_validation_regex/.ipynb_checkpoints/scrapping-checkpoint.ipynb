{
 "cells": [
  {
   "cell_type": "code",
   "execution_count": 50,
   "metadata": {},
   "outputs": [],
   "source": [
    "import requests\n",
    "import csv\n",
    "import re\n",
    "from bs4 import BeautifulSoup\n",
    "raw=requests.get(\"https://en.wikipedia.org/wiki/Python_(programming_language)\").content\n",
    "\n",
    "                "
   ]
  },
  {
   "cell_type": "code",
   "execution_count": 51,
   "metadata": {},
   "outputs": [],
   "source": [
    "sp=BeautifulSoup(raw)"
   ]
  },
  {
   "cell_type": "code",
   "execution_count": 52,
   "metadata": {},
   "outputs": [],
   "source": [
    "tbody=sp.find_all(\"tbody\")"
   ]
  },
  {
   "cell_type": "code",
   "execution_count": 53,
   "metadata": {},
   "outputs": [],
   "source": [
    "trs=tbody[0].find_all(\"tr\")"
   ]
  },
  {
   "cell_type": "code",
   "execution_count": 54,
   "metadata": {},
   "outputs": [
    {
     "data": {
      "text/plain": [
       "'Multi-paradigm: functional, imperative, object-oriented, reflective'"
      ]
     },
     "execution_count": 54,
     "metadata": {},
     "output_type": "execute_result"
    }
   ],
   "source": [
    "trs[1].find_all(\"th\")[0].text\n",
    "trs[1].find_all(\"td\")[0].text"
   ]
  },
  {
   "cell_type": "code",
   "execution_count": 55,
   "metadata": {},
   "outputs": [
    {
     "name": "stdout",
     "output_type": "stream",
     "text": [
      "Paradigm,Multi-paradigm: functional  imperative  object-oriented  reflective\n",
      "\n",
      "Designed by,Guido van Rossum\n",
      "\n",
      "Developer,Python Software Foundation\n",
      "\n",
      "First appeared,1990; 29 years ago (1990)[1]\n",
      "\n",
      "Stable release,3.7.3 / 25 March 2019; 59 days ago (2019-03-25)[2]2.7.16 / 4 March 2019; 2 months ago (2019-03-04)[3]\n",
      "\n",
      "\n",
      "Typing discipline,Duck  dynamic  gradual (since 3.5)[4]\n",
      "\n",
      "License,Python Software Foundation License\n",
      "\n",
      "Filename extensions,.py  .pyc  .pyd  .pyo (prior to 3.5) [5] .pyw  .pyz (since 3.5)[6]\n",
      "\n",
      "Website,www.python.org\n",
      "\n"
     ]
    }
   ],
   "source": [
    "gh=\"title,description\\n\"\n",
    "with open(\"nancy.csv\",\"a\",encoding=\"utf-8\")as nancy:\n",
    "            nancy.write(gh)\n",
    "for tr in trs[1:]:\n",
    "    try:\n",
    "        head=tr.find_all(\"th\")[0].text\n",
    "        dec=tr.find_all(\"td\")[0].text\n",
    "        d=re.sub(\"[,]\",\" \",dec)\n",
    "        final_str=head+\",\"+d+\"\\n\"\n",
    "        print(final_str)\n",
    "        with open(\"nancy.csv\",\"a\",encoding=\"utf-8\") as nancy:\n",
    "            nancy.write(final_str)\n",
    "    except:\n",
    "        pass\n",
    "    "
   ]
  },
  {
   "cell_type": "code",
   "execution_count": null,
   "metadata": {},
   "outputs": [],
   "source": []
  },
  {
   "cell_type": "code",
   "execution_count": null,
   "metadata": {},
   "outputs": [],
   "source": []
  }
 ],
 "metadata": {
  "kernelspec": {
   "display_name": "Python 3",
   "language": "python",
   "name": "python3"
  },
  "language_info": {
   "codemirror_mode": {
    "name": "ipython",
    "version": 3
   },
   "file_extension": ".py",
   "mimetype": "text/x-python",
   "name": "python",
   "nbconvert_exporter": "python",
   "pygments_lexer": "ipython3",
   "version": "3.7.3"
  }
 },
 "nbformat": 4,
 "nbformat_minor": 2
}
